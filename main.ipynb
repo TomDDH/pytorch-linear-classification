{
 "cells": [
  {
   "cell_type": "code",
   "execution_count": 1,
   "metadata": {},
   "outputs": [],
   "source": [
    "import torch\n",
    "import torch.nn as nn\n",
    "import numpy as np\n",
    "import matplotlib.pyplot as plt\n",
    "import torchvision.transforms as transforms\n",
    "import imageio.v2 as imageio\n",
    "import os\n",
    "import random\n",
    "import torch.nn.functional as F\n",
    "from PIL import Image"
   ]
  },
  {
   "cell_type": "markdown",
   "metadata": {},
   "source": [
    "this PyTorch Linear Classification model predict one chinese number character. \n",
    "```\n",
    "{\n",
    "  0: \"十\",\n",
    "  1: \"一\",\n",
    "  2: \"二\",\n",
    "  3: \"三\",\n",
    "  4: \"四\",\n",
    "  5: \"五\",\n",
    "  6: \"六\",\n",
    "  7: \"七\",\n",
    "  8: \"八\",\n",
    "  9: \"九\",\n",
    "}\n",
    "```\n"
   ]
  },
  {
   "cell_type": "code",
   "execution_count": 2,
   "metadata": {},
   "outputs": [],
   "source": [
    "prediction_character = \"6\""
   ]
  },
  {
   "cell_type": "code",
   "execution_count": 3,
   "metadata": {},
   "outputs": [],
   "source": [
    "class MNIST_CH_Dataset(torch.utils.data.Dataset):\n",
    "    def __init__(self,img_dir,images,transforms=None):\n",
    "        self.img_dir = img_dir\n",
    "        self.inputs = images\n",
    "        self.transforms = transforms\n",
    "    def __len__(self):\n",
    "        return len(self.inputs)\n",
    "    def __getitem__(self, idx):\n",
    "        img_path = os.path.join(self.img_dir, self.inputs[idx])\n",
    "        np_image = imageio.imread(img_path)\n",
    "        PIL_image = Image.fromarray(np_image)\n",
    "        if self.transforms:\n",
    "            PIL_image = self.transforms(PIL_image)\n",
    "        np_image_input = torch.from_numpy(np_image.astype(np.float32))\n",
    "        input = F.normalize(np_image_input)\n",
    "        target =torch.tensor([float(1 if self.inputs[idx].split('.')[-2][-1] == prediction_character else 0 )])\n",
    "        name = self.inputs[idx]\n",
    "        return input,target,name"
   ]
  },
  {
   "cell_type": "code",
   "execution_count": 4,
   "metadata": {},
   "outputs": [
    {
     "name": "stdout",
     "output_type": "stream",
     "text": [
      "100\n",
      "20\n"
     ]
    }
   ],
   "source": [
    "totalImages = os.listdir( os.getcwd()+\"/MNIST-CH\")\n",
    "\n",
    "trainImages =[]\n",
    "testImages =[]\n",
    "\n",
    "for index in range(len(totalImages)):\n",
    "    image = totalImages[index]\n",
    "    if image.endswith(\".jpg\"):\n",
    "        if index <= 100:\n",
    "            trainImages.append(image)\n",
    "        else:\n",
    "            testImages.append(image)\n",
    "\n",
    "print(len(trainImages))\n",
    "print(len(testImages))"
   ]
  },
  {
   "cell_type": "code",
   "execution_count": 5,
   "metadata": {},
   "outputs": [],
   "source": [
    "transform_image = transforms.Compose([\n",
    "                                      transforms.RandomRotation(15),\n",
    "                                      transforms.RandomCrop(32),\n",
    "                                      transforms.ToTensor(),\n",
    "                                      ])\n",
    "\n",
    "train_dataset = MNIST_CH_Dataset(img_dir=os.getcwd()+\"/MNIST-CH\",  images=trainImages, transforms=transform_image )\n",
    "test_dataset = MNIST_CH_Dataset(img_dir=os.getcwd()+\"/MNIST-CH\",  images=testImages,transforms=transform_image )\n"
   ]
  },
  {
   "cell_type": "code",
   "execution_count": 6,
   "metadata": {},
   "outputs": [],
   "source": [
    "train_dataloader = torch.utils.data.DataLoader(dataset=train_dataset, batch_size=10, shuffle=True)\n",
    "test_dataloader = torch.utils.data.DataLoader(dataset=test_dataset, batch_size=10, shuffle=False)\n"
   ]
  },
  {
   "cell_type": "code",
   "execution_count": 9,
   "metadata": {},
   "outputs": [],
   "source": [
    "model = nn.Sequential(\n",
    "    nn.Linear(1024, 1),\n",
    "    nn.Sigmoid()\n",
    ")\n",
    "\n",
    "# model = nn.Linear(1024, 1),"
   ]
  },
  {
   "cell_type": "code",
   "execution_count": 10,
   "metadata": {},
   "outputs": [],
   "source": [
    "criterion = nn.BCELoss()\n",
    "optimizer = torch.optim.Adam(model.parameters())"
   ]
  },
  {
   "cell_type": "code",
   "execution_count": 11,
   "metadata": {},
   "outputs": [
    {
     "name": "stdout",
     "output_type": "stream",
     "text": [
      "0\n",
      "1\n"
     ]
    }
   ],
   "source": [
    "n_epochs = 2\n",
    "\n",
    "train_losses = np.zeros(n_epochs)\n",
    "test_losses = np.zeros(n_epochs)\n",
    "\n",
    "for it in range(n_epochs):\n",
    "    train_loss = []\n",
    "    print(it)\n",
    "    for inputs, targets,name in train_dataloader:\n",
    "        optimizer.zero_grad()\n",
    "        # print(inputs.shape)\n",
    "        inputs = inputs.view(-1, 1024)\n",
    "        # print(inputs.shape,input.dtype)\n",
    "        \n",
    "        # print(targets.dtype)\n",
    "        outputs = model(inputs)\n",
    "        # print(outputs.dtype)\n",
    "        \n",
    "        # losss = criterion(outputs,targets)\n"
   ]
  },
  {
   "cell_type": "code",
   "execution_count": 12,
   "metadata": {},
   "outputs": [
    {
     "name": "stdout",
     "output_type": "stream",
     "text": [
      "Epoch 10/100, Train Loss: 0.2529, Test Loss: 0.4099\n",
      "Epoch 20/100, Train Loss: 0.1686, Test Loss: 0.3265\n",
      "Epoch 30/100, Train Loss: 0.1159, Test Loss: 0.2719\n",
      "Epoch 40/100, Train Loss: 0.0844, Test Loss: 0.2373\n",
      "Epoch 50/100, Train Loss: 0.0641, Test Loss: 0.2167\n",
      "Epoch 60/100, Train Loss: 0.0502, Test Loss: 0.2024\n",
      "Epoch 70/100, Train Loss: 0.0404, Test Loss: 0.1928\n",
      "Epoch 80/100, Train Loss: 0.0331, Test Loss: 0.1858\n",
      "Epoch 90/100, Train Loss: 0.0277, Test Loss: 0.1816\n",
      "Epoch 100/100, Train Loss: 0.0234, Test Loss: 0.1779\n"
     ]
    }
   ],
   "source": [
    "n_epochs = 100\n",
    "\n",
    "train_losses = np.zeros(n_epochs)\n",
    "test_losses = np.zeros(n_epochs)\n",
    "\n",
    "for it in range(n_epochs):\n",
    "  train_loss = []\n",
    "  for inputs, targets,name in train_dataloader:\n",
    "    # reshape the input\n",
    "    inputs = inputs.view(-1, 1024)\n",
    "    # zero the parameter gradients\n",
    "    optimizer.zero_grad()\n",
    "    outputs = model(inputs)\n",
    "    \n",
    "    loss = criterion(outputs, targets)\n",
    "      \n",
    "    # Backward and optimize\n",
    "    loss.backward()\n",
    "    optimizer.step()\n",
    "\n",
    "    train_loss.append(loss.item())\n",
    "    \n",
    "    test_loss = []\n",
    "    for inputs, targets,name in test_dataloader:\n",
    "        inputs = inputs.view(-1, 1024)\n",
    "        outputs = model(inputs)\n",
    "        loss = criterion(outputs, targets)\n",
    "        test_loss.append(loss.item())\n",
    "    test_loss = np.mean(test_loss)\n",
    "\n",
    "\n",
    "  train_loss = np.mean(train_loss) # a little misleading\n",
    "  train_losses[it] = train_loss\n",
    "  test_losses[it] = test_loss\n",
    "  if (it + 1) % 10 == 0:\n",
    "    print(f'Epoch {it+1}/{n_epochs}, Train Loss: {train_loss:.4f}, Test Loss: {test_loss:.4f}')\n",
    "\n"
   ]
  },
  {
   "cell_type": "code",
   "execution_count": 13,
   "metadata": {},
   "outputs": [
    {
     "data": {
      "image/png": "[encoded data removed]",
      "text/plain": [
       "<Figure size 640x480 with 1 Axes>"
      ]
     },
     "metadata": {},
     "output_type": "display_data"
    }
   ],
   "source": [
    "plt.plot(train_losses, label='train loss')\n",
    "plt.plot(test_losses, label='test loss')\n",
    "plt.legend()\n",
    "plt.show()"
   ]
  },
  {
   "cell_type": "code",
   "execution_count": 14,
   "metadata": {},
   "outputs": [
    {
     "name": "stdout",
     "output_type": "stream",
     "text": [
      "Train acc: 1.0000, Test acc: 0.9500\n"
     ]
    }
   ],
   "source": [
    "# accuracy\n",
    "n_correct = 0.\n",
    "n_total = 0.\n",
    "for inputs, targets,name in train_dataloader:\n",
    "  inputs = inputs.view(-1, 1024)\n",
    "  outputs = model(inputs)\n",
    "  # Get prediction\n",
    "  predictions =  torch.round(outputs)\n",
    "  n_correct += (predictions == targets).sum().item()\n",
    "  n_total += targets.shape[0]\n",
    "train_acc = n_correct / n_total\n",
    "\n",
    "n_correct = 0.\n",
    "n_total = 0.\n",
    "for inputs, targets,name in test_dataloader:\n",
    "  inputs = inputs.view(-1, 1024)\n",
    "  outputs = model(inputs)\n",
    "  predictions =  torch.round(outputs)\n",
    "  n_correct += (predictions == targets).sum().item()\n",
    "  n_total += targets.shape[0]\n",
    "test_acc = n_correct / n_total\n",
    "print(f\"Train acc: {train_acc:.4f}, Test acc: {test_acc:.4f}\")\n"
   ]
  },
  {
   "cell_type": "code",
   "execution_count": 65,
   "metadata": {},
   "outputs": [
    {
     "name": "stdout",
     "output_type": "stream",
     "text": [
      "Predition image chinese_numbers_v3_0011s_0005_6.jpg for character 6 (六), Result:True\n"
     ]
    },
    {
     "data": {
      "text/plain": [
       "<matplotlib.image.AxesImage at 0x284389b50>"
      ]
     },
     "execution_count": 65,
     "metadata": {},
     "output_type": "execute_result"
    },
    {
     "data": {
      "image/png": "[encoded data removed]",
      "text/plain": [
       "<Figure size 640x480 with 1 Axes>"
      ]
     },
     "metadata": {},
     "output_type": "display_data"
    }
   ],
   "source": [
    "index = random.randrange(20)\n",
    "test_image_path = os.path.join(os.getcwd()+\"/MNIST-CH\", testImages[index])\n",
    "\n",
    "test_image_np = imageio.imread(test_image_path)\n",
    "        \n",
    "test_image_input = torch.from_numpy(test_image_np.astype(np.float32))\n",
    "\n",
    "image_input = F.normalize(test_image_input)\n",
    "image_input = image_input.view(-1, 1024)\n",
    "predition = model(image_input)\n",
    "\n",
    "PIL_image = Image.fromarray(test_image_np)\n",
    "# print(testImages[index])\n",
    "# print(predition)\n",
    "result = True if np.round(predition.item()) == 1 else False\n",
    "print(f'Predition image {testImages[index]} for character {prediction_character} (六), Result:{result}')\n",
    "plt.imshow(PIL_image)\n"
   ]
  }
 ],
 "metadata": {
  "kernelspec": {
   "display_name": "env",
   "language": "python",
   "name": "python3"
  },
  "language_info": {
   "codemirror_mode": {
    "name": "ipython",
    "version": 3
   },
   "file_extension": ".py",
   "mimetype": "text/x-python",
   "name": "python",
   "nbconvert_exporter": "python",
   "pygments_lexer": "ipython3",
   "version": "3.11.6"
  }
 },
 "nbformat": 4,
 "nbformat_minor": 2
}
